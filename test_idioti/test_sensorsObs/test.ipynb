{
 "cells": [
  {
   "cell_type": "code",
   "execution_count": 1,
   "metadata": {},
   "outputs": [
    {
     "name": "stdout",
     "output_type": "stream",
     "text": [
      "[[0. 0. 0.]\n",
      " [0. 0. 0.]\n",
      " [0. 0. 0.]\n",
      " [0. 0. 0.]]\n",
      "[[ 0.866 -0.5    0.   ]\n",
      " [ 0.5    0.866  0.   ]\n",
      " [-0.866  0.5    0.   ]\n",
      " [-0.5   -0.866  0.   ]]\n",
      "[[3 3 3 3]\n",
      " [3 3 3 3]\n",
      " [3 3 3 3]\n",
      " [3 3 3 3]]\n"
     ]
    }
   ],
   "source": [
    "import numpy as np\n",
    "import pybullet as p\n",
    "\n",
    "NUM_DRONES = 4\n",
    "distWallRef = 0.5\n",
    "SENSOR_ATTR = True\n",
    "max_range = 3\n",
    "if SENSOR_ATTR :\n",
    "    sensor_position =np.zeros((4,3)) \n",
    "    print(sensor_position)  # questo è lo zero del mondo\n",
    "    sensor_direction = np.array([\n",
    "    [1.0, 0.0, 0.0],  # front\n",
    "    [0.0, 1.0, 0.0],  # Rx\n",
    "    [-1.0, 0.0, 0.0],   # behind\n",
    "    [0.0, -1.0, 0.0],  # Lx\n",
    "    ])\n",
    "    rot_mat = np.array([      # rot mat esempio SOTTO come estrarla veramente\n",
    "    [0.866, -0.5, 0.0],\n",
    "    [0.5, 0.866, 0.0],\n",
    "    [0.0, 0.0, 1.0]\n",
    "    ])\n",
    "    # rot_mat = np.array(p.getMatrixFromQuaternion(quat[nth_drone, :])).reshape(3, 3)\n",
    "    sensor_direction = np.dot(sensor_direction,rot_mat)   # (3, 3) * () \n",
    "    print(sensor_direction)\n",
    "\n",
    "    observation = np.array([[max_range,max_range,max_range,max_range] for j in range(NUM_DRONES)] )\n",
    "    print(observation)\n",
    "\n",
    "def _sensorsObs():\n",
    "        # observation = np.array([[max_range,max_range,max_range,max_range] for j in range(NUM_DRONES)] )\n",
    "        Hit_point = []\n",
    "        if SENSOR_ATTR:\n",
    "            for i in range(NUM_DRONES):\n",
    "                closest_hit = []\n",
    "                for j in range(NUM_SENSORS) :\n",
    "                    sensor_position = _getDroneStateVector(i)[0:3]  # piazza il sensore nella posiz attuale\n",
    "                    from_positions = [sensor_position] * 4\n",
    "                    \n",
    "                    to_positions = [sensor_position + sensor_direction * 3 for direction in directions.values()]\n",
    "                  #  result = p.rayTest(sensor_position, \n",
    "                  #                      [sensor_position[0] + max_range[0] * sensor_direction[j][0], \n",
    "                  #                      sensor_position[1] + max_range[0] * sensor_direction[j][1], \n",
    "                  #                      sensor_position[2] + max_range[0] * sensor_direction[j][2]])\n",
    "                    result = p.rayTestBatch(from_positions, to_positions)\n",
    "                    closest_hit.append(result[0])\n",
    "                        #closest_hit[j][0] = result_list[j][0]\n",
    "                    # Se c'è un punto di contatto, ottieni la distanza\n",
    "                    if closest_hit[j][0] != -1:\n",
    "                        hit_distance = closest_hit[j][2]\n",
    "                        hit_point = closest_hit[j][3]\n",
    "                        # Aggiungi la distanza rilevata come osservazione\n",
    "                        observation[i][j]= hit_distance\n",
    "                        Hit_point.append(hit_point)\n",
    "                    else:\n",
    "                        # Se non ci sono oggetti rilevati, assegna una distanza massima\n",
    "                        observation[i][j] =  self.max_range\n",
    "                        Hit_point.append([])\n",
    "        return observation, Hit_point"
   ]
  },
  {
   "cell_type": "code",
   "execution_count": 8,
   "metadata": {},
   "outputs": [
    {
     "name": "stdout",
     "output_type": "stream",
     "text": [
      "[0. 0. 0.]\n",
      "[array([0., 0., 0.]), array([0., 0., 0.]), array([0., 0., 0.]), array([0., 0., 0.])]\n",
      "[[ 0.866 -0.5    0.   ]\n",
      " [ 0.5    0.866  0.   ]\n",
      " [-0.866  0.5    0.   ]\n",
      " [-0.5   -0.866  0.   ]]\n",
      "[[0. 0. 0.]\n",
      " [0. 0. 0.]\n",
      " [0. 0. 0.]\n",
      " [0. 0. 0.]]\n",
      "[[ 2.598 -1.5    0.   ]\n",
      " [ 1.5    2.598  0.   ]\n",
      " [-2.598  1.5    0.   ]\n",
      " [-1.5   -2.598  0.   ]]\n"
     ]
    }
   ],
   "source": [
    "max_range = 3\n",
    "sensor_position = np.array([0. , 0. , 0.]) # piazza il sensore nella posiz attuale\n",
    "print(sensor_position)\n",
    "from_positions = [sensor_position] * 4\n",
    "print(from_positions)\n",
    "sensor_direction = [\n",
    "    [1.0, 0.0, 0.0],  # front\n",
    "    [0.0, 1.0, 0.0],  # Rx\n",
    "    [-1.0, 0.0, 0.0],   # behind\n",
    "    [0.0, -1.0, 0.0],  # Lx\n",
    "    ]\n",
    "sensor_direction = np.array(sensor_direction)   # converte in matrice numpy\n",
    "rot_mat = np.array([      # rot mat esempio SOTTO come estrarla veramente\n",
    "    [0.866, -0.5, 0.0],\n",
    "    [0.5, 0.866, 0.0],\n",
    "    [0.0, 0.0, 1.0]\n",
    "    ])\n",
    "    # rot_mat = np.array(p.getMatrixFromQuaternion(quat[nth_drone, :])).reshape(3, 3)\n",
    "sensor_direction = np.dot(sensor_direction,rot_mat)   # (3, 3) * () \n",
    "print(sensor_direction)\n",
    "from_positions = np.tile(sensor_position, (4, 1))\n",
    "print(from_positions)\n",
    "to_positions = np.array([sensor_position + direction * max_range for direction in sensor_direction])\n",
    "print(to_positions)"
   ]
  },
  {
   "cell_type": "code",
   "execution_count": 16,
   "metadata": {},
   "outputs": [
    {
     "name": "stdout",
     "output_type": "stream",
     "text": [
      "[[ 0.866 -0.5    0.   ]\n",
      " [ 0.5    0.866  0.   ]\n",
      " [-0.866  0.5    0.   ]\n",
      " [-0.5   -0.866  0.   ]]\n"
     ]
    }
   ],
   "source": [
    "import numpy as np### TEST PRODOTTO RXC ROTAZIONE\n",
    "sensor_direction = np.array([\n",
    "    [1.0, 0.0, 0.0],  # front\n",
    "    [0.0, 1.0, 0.0],  # Rx\n",
    "    [-1.0, 0.0, 0.0],   # behind\n",
    "    [0.0, -1.0, 0.0],  # Lx\n",
    "    ])\n",
    "rot_mat = np.array([      # rot mat esempio SOTTO come estrarla veramente\n",
    "    [0.866, -0.5, 0.0],\n",
    "    [0.5, 0.866, 0.0],\n",
    "    [0.0, 0.0, 1.0]\n",
    "    ])\n",
    "    # rot_mat = np.array(p.getMatrixFromQuaternion(quat[nth_drone, :])).reshape(3, 3)\n",
    "sensor_direction = np.dot(sensor_direction,rot_mat)   # (3, 3) * ()\n",
    "print(sensor_direction)"
   ]
  },
  {
   "cell_type": "code",
   "execution_count": 8,
   "metadata": {},
   "outputs": [
    {
     "name": "stdout",
     "output_type": "stream",
     "text": [
      "a= [0 0 0]\n",
      "(3,)\n",
      "c= [[0 0 0]\n",
      " [0 0 0]]\n",
      "(2, 3)\n",
      "d= [0 0 0 0 0 0] fatto male\n",
      "(6,)\n",
      "e= [[0 0]\n",
      " [0 0]\n",
      " [0 0]]\n",
      "(3, 2)\n",
      "c e e sono uguali solo se il vettore era di 2 valori\n"
     ]
    }
   ],
   "source": [
    "import numpy as np\n",
    "a=np.array([ 0 , 0 , 0 ])\n",
    "print(\"a=\",a)\n",
    "print(a.shape)\n",
    "b=np.array([ 0 , 0 , 0 ])\n",
    "c = np.vstack((a, b))\n",
    "print(\"c=\",c)\n",
    "print(c.shape)\n",
    "d = np.hstack((a, b))\n",
    "print(\"d=\",d, \"fatto male\")\n",
    "print(d.shape)\n",
    "e = np.hstack((a[:, np.newaxis], b[:, np.newaxis]))\n",
    "print(\"e=\",e)\n",
    "print(e.shape)\n",
    "print(\"c e e sono uguali solo se il vettore era di 2 valori\")"
   ]
  },
  {
   "cell_type": "code",
   "execution_count": 12,
   "metadata": {},
   "outputs": [
    {
     "name": "stdout",
     "output_type": "stream",
     "text": [
      "[[[inf  0.  0.]\n",
      "  [inf  0.  0.]\n",
      "  [inf  0.  0.]\n",
      "  [inf  0.  0.]]\n",
      "\n",
      " [[inf  0.  0.]\n",
      "  [inf  0.  0.]\n",
      "  [inf  0.  0.]\n",
      "  [inf  0.  0.]]\n",
      "\n",
      " [[inf  0.  0.]\n",
      "  [inf  0.  0.]\n",
      "  [inf  0.  0.]\n",
      "  [inf  0.  0.]]]\n",
      "(1.0000000000000002, 0.0, 0.9998298611111112)\n",
      "[[[       inf 0.         0.        ]\n",
      "  [       inf 0.         0.        ]\n",
      "  [       inf 0.         0.        ]\n",
      "  [       inf 0.         0.        ]]\n",
      "\n",
      " [[1.         0.         0.99982986]\n",
      "  [       inf 0.         0.        ]\n",
      "  [       inf 0.         0.        ]\n",
      "  [       inf 0.         0.        ]]\n",
      "\n",
      " [[       inf 0.         0.        ]\n",
      "  [       inf 0.         0.        ]\n",
      "  [       inf 0.         0.        ]\n",
      "  [       inf 0.         0.        ]]]\n"
     ]
    }
   ],
   "source": [
    "import numpy as np\n",
    "NUM_DRONES = 3\n",
    "NUM_SENSORS = 4\n",
    "Hit_point = np.array([[[np.inf , 0.0 , 0.0] for j in range(NUM_SENSORS)]for i in range(NUM_DRONES)] )\n",
    "print(Hit_point)\n",
    "hit_point = (1.0000000000000002, 0.0, 0.9998298611111112)\n",
    "print(hit_point)\n",
    "Hit_point[1][0] = hit_point\n",
    "print(Hit_point)\n"
   ]
  }
 ],
 "metadata": {
  "kernelspec": {
   "display_name": "drones",
   "language": "python",
   "name": "python3"
  },
  "language_info": {
   "codemirror_mode": {
    "name": "ipython",
    "version": 3
   },
   "file_extension": ".py",
   "mimetype": "text/x-python",
   "name": "python",
   "nbconvert_exporter": "python",
   "pygments_lexer": "ipython3",
   "version": "3.10.14"
  }
 },
 "nbformat": 4,
 "nbformat_minor": 2
}
