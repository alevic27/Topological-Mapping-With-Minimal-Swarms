{
 "cells": [
  {
   "cell_type": "code",
   "execution_count": 1,
   "metadata": {},
   "outputs": [
    {
     "name": "stdout",
     "output_type": "stream",
     "text": [
      "[[0. 0. 0.]\n",
      " [0. 0. 0.]\n",
      " [0. 0. 0.]\n",
      " [0. 0. 0.]]\n",
      "[[ 0.866 -0.5    0.   ]\n",
      " [ 0.5    0.866  0.   ]\n",
      " [-0.866  0.5    0.   ]\n",
      " [-0.5   -0.866  0.   ]]\n",
      "[[3 3 3 3]\n",
      " [3 3 3 3]\n",
      " [3 3 3 3]\n",
      " [3 3 3 3]]\n"
     ]
    }
   ],
   "source": [
    "import numpy as np\n",
    "import pybullet as p\n",
    "\n",
    "NUM_DRONES = 4\n",
    "distWallRef = 0.5\n",
    "SENSOR_ATTR = True\n",
    "max_range = 3\n",
    "if SENSOR_ATTR :\n",
    "    sensor_position =np.zeros((4,3)) \n",
    "    print(sensor_position)  # questo è lo zero del mondo\n",
    "    sensor_direction = np.array([\n",
    "    [1.0, 0.0, 0.0],  # front\n",
    "    [0.0, 1.0, 0.0],  # Rx\n",
    "    [-1.0, 0.0, 0.0],   # behind\n",
    "    [0.0, -1.0, 0.0],  # Lx\n",
    "    ])\n",
    "    rot_mat = np.array([      # rot mat esempio SOTTO come estrarla veramente\n",
    "    [0.866, -0.5, 0.0],\n",
    "    [0.5, 0.866, 0.0],\n",
    "    [0.0, 0.0, 1.0]\n",
    "    ])\n",
    "    # rot_mat = np.array(p.getMatrixFromQuaternion(quat[nth_drone, :])).reshape(3, 3)\n",
    "    sensor_direction = np.dot(sensor_direction,rot_mat)   # (3, 3) * () \n",
    "    print(sensor_direction)\n",
    "\n",
    "    observation = np.array([[max_range,max_range,max_range,max_range] for j in range(NUM_DRONES)] )\n",
    "    print(observation)\n",
    "\n",
    "def _sensorsObs():\n",
    "        # observation = np.array([[max_range,max_range,max_range,max_range] for j in range(NUM_DRONES)] )\n",
    "        Hit_point = []\n",
    "        if SENSOR_ATTR:\n",
    "            for i in range(NUM_DRONES):\n",
    "                closest_hit = []\n",
    "                for j in range(NUM_SENSORS) :\n",
    "                    sensor_position = _getDroneStateVector(i)[0:3]  # piazza il sensore nella posiz attuale\n",
    "                    from_positions = [sensor_position] * 4\n",
    "                    \n",
    "                    to_positions = [sensor_position + sensor_direction * 3 for direction in directions.values()]\n",
    "                  #  result = p.rayTest(sensor_position, \n",
    "                  #                      [sensor_position[0] + max_range[0] * sensor_direction[j][0], \n",
    "                  #                      sensor_position[1] + max_range[0] * sensor_direction[j][1], \n",
    "                  #                      sensor_position[2] + max_range[0] * sensor_direction[j][2]])\n",
    "                    result = p.rayTestBatch(from_positions, to_positions)\n",
    "                    closest_hit.append(result[0])\n",
    "                        #closest_hit[j][0] = result_list[j][0]\n",
    "                    # Se c'è un punto di contatto, ottieni la distanza\n",
    "                    if closest_hit[j][0] != -1:\n",
    "                        hit_distance = closest_hit[j][2]\n",
    "                        hit_point = closest_hit[j][3]\n",
    "                        # Aggiungi la distanza rilevata come osservazione\n",
    "                        observation[i][j]= hit_distance\n",
    "                        Hit_point.append(hit_point)\n",
    "                    else:\n",
    "                        # Se non ci sono oggetti rilevati, assegna una distanza massima\n",
    "                        observation[i][j] =  self.max_range\n",
    "                        Hit_point.append([])\n",
    "        return observation, Hit_point"
   ]
  },
  {
   "cell_type": "code",
   "execution_count": 8,
   "metadata": {},
   "outputs": [
    {
     "name": "stdout",
     "output_type": "stream",
     "text": [
      "[0. 0. 0.]\n",
      "[array([0., 0., 0.]), array([0., 0., 0.]), array([0., 0., 0.]), array([0., 0., 0.])]\n",
      "[[ 0.866 -0.5    0.   ]\n",
      " [ 0.5    0.866  0.   ]\n",
      " [-0.866  0.5    0.   ]\n",
      " [-0.5   -0.866  0.   ]]\n",
      "[[0. 0. 0.]\n",
      " [0. 0. 0.]\n",
      " [0. 0. 0.]\n",
      " [0. 0. 0.]]\n",
      "[[ 2.598 -1.5    0.   ]\n",
      " [ 1.5    2.598  0.   ]\n",
      " [-2.598  1.5    0.   ]\n",
      " [-1.5   -2.598  0.   ]]\n"
     ]
    }
   ],
   "source": [
    "max_range = 3\n",
    "sensor_position = np.array([0. , 0. , 0.]) # piazza il sensore nella posiz attuale\n",
    "print(sensor_position)\n",
    "from_positions = [sensor_position] * 4\n",
    "print(from_positions)\n",
    "sensor_direction = [\n",
    "    [1.0, 0.0, 0.0],  # front\n",
    "    [0.0, 1.0, 0.0],  # Rx\n",
    "    [-1.0, 0.0, 0.0],   # behind\n",
    "    [0.0, -1.0, 0.0],  # Lx\n",
    "    ]\n",
    "sensor_direction = np.array(sensor_direction)   # converte in matrice numpy\n",
    "rot_mat = np.array([      # rot mat esempio SOTTO come estrarla veramente\n",
    "    [0.866, -0.5, 0.0],\n",
    "    [0.5, 0.866, 0.0],\n",
    "    [0.0, 0.0, 1.0]\n",
    "    ])\n",
    "    # rot_mat = np.array(p.getMatrixFromQuaternion(quat[nth_drone, :])).reshape(3, 3)\n",
    "sensor_direction = np.dot(sensor_direction,rot_mat)   # (3, 3) * () \n",
    "print(sensor_direction)\n",
    "from_positions = np.tile(sensor_position, (4, 1))\n",
    "print(from_positions)\n",
    "to_positions = np.array([sensor_position + direction * max_range for direction in sensor_direction])\n",
    "print(to_positions)"
   ]
  },
  {
   "cell_type": "code",
   "execution_count": 16,
   "metadata": {},
   "outputs": [
    {
     "name": "stdout",
     "output_type": "stream",
     "text": [
      "[[ 0.866 -0.5    0.   ]\n",
      " [ 0.5    0.866  0.   ]\n",
      " [-0.866  0.5    0.   ]\n",
      " [-0.5   -0.866  0.   ]]\n"
     ]
    }
   ],
   "source": [
    "import numpy as np### TEST PRODOTTO RXC ROTAZIONE\n",
    "sensor_direction = np.array([\n",
    "    [1.0, 0.0, 0.0],  # front\n",
    "    [0.0, 1.0, 0.0],  # Rx\n",
    "    [-1.0, 0.0, 0.0],   # behind\n",
    "    [0.0, -1.0, 0.0],  # Lx\n",
    "    ])\n",
    "rot_mat = np.array([      # rot mat esempio SOTTO come estrarla veramente\n",
    "    [0.866, -0.5, 0.0],\n",
    "    [0.5, 0.866, 0.0],\n",
    "    [0.0, 0.0, 1.0]\n",
    "    ])\n",
    "    # rot_mat = np.array(p.getMatrixFromQuaternion(quat[nth_drone, :])).reshape(3, 3)\n",
    "sensor_direction = np.dot(sensor_direction,rot_mat)   # (3, 3) * ()\n",
    "print(sensor_direction)"
   ]
  },
  {
   "cell_type": "code",
   "execution_count": 8,
   "metadata": {},
   "outputs": [
    {
     "name": "stdout",
     "output_type": "stream",
     "text": [
      "a= [0 0 0]\n",
      "(3,)\n",
      "c= [[0 0 0]\n",
      " [0 0 0]]\n",
      "(2, 3)\n",
      "d= [0 0 0 0 0 0] fatto male\n",
      "(6,)\n",
      "e= [[0 0]\n",
      " [0 0]\n",
      " [0 0]]\n",
      "(3, 2)\n",
      "c e e sono uguali solo se il vettore era di 2 valori\n"
     ]
    }
   ],
   "source": [
    "import numpy as np\n",
    "a=np.array([ 0 , 0 , 0 ])\n",
    "print(\"a=\",a)\n",
    "print(a.shape)\n",
    "b=np.array([ 0 , 0 , 0 ])\n",
    "c = np.vstack((a, b))\n",
    "print(\"c=\",c)\n",
    "print(c.shape)\n",
    "d = np.hstack((a, b))\n",
    "print(\"d=\",d, \"fatto male\")\n",
    "print(d.shape)\n",
    "e = np.hstack((a[:, np.newaxis], b[:, np.newaxis]))\n",
    "print(\"e=\",e)\n",
    "print(e.shape)\n",
    "print(\"c e e sono uguali solo se il vettore era di 2 valori\")"
   ]
  },
  {
   "cell_type": "code",
   "execution_count": 2,
   "metadata": {},
   "outputs": [
    {
     "name": "stdout",
     "output_type": "stream",
     "text": [
      "[[[inf inf inf]\n",
      "  [inf inf inf]\n",
      "  [inf inf inf]\n",
      "  [inf inf inf]]\n",
      "\n",
      " [[inf inf inf]\n",
      "  [inf inf inf]\n",
      "  [inf inf inf]\n",
      "  [inf inf inf]]\n",
      "\n",
      " [[inf inf inf]\n",
      "  [inf inf inf]\n",
      "  [inf inf inf]\n",
      "  [inf inf inf]]]\n",
      "(1.0000000000000002, 0.0, 0.9998298611111112)\n",
      "[[[       inf        inf        inf]\n",
      "  [       inf        inf        inf]\n",
      "  [       inf        inf        inf]\n",
      "  [       inf        inf        inf]]\n",
      "\n",
      " [[1.         0.         0.99982986]\n",
      "  [       inf        inf        inf]\n",
      "  [       inf        inf        inf]\n",
      "  [       inf        inf        inf]]\n",
      "\n",
      " [[       inf        inf        inf]\n",
      "  [       inf        inf        inf]\n",
      "  [       inf        inf        inf]\n",
      "  [       inf        inf        inf]]]\n"
     ]
    }
   ],
   "source": [
    "import numpy as np\n",
    "NUM_DRONES = 3\n",
    "NUM_SENSORS = 4\n",
    "Hit_point = np.array([[[np.inf , np.inf , np.inf] for j in range(NUM_SENSORS)]for i in range(NUM_DRONES)] )\n",
    "print(Hit_point)\n",
    "hit_point = (1.0000000000000002, 0.0, 0.9998298611111112)\n",
    "print(hit_point)\n",
    "Hit_point[1][0] = hit_point\n",
    "print(Hit_point)\n"
   ]
  },
  {
   "cell_type": "code",
   "execution_count": 5,
   "metadata": {},
   "outputs": [
    {
     "name": "stdout",
     "output_type": "stream",
     "text": [
      "1.5707963267948966\n",
      "6.123233995736766e-17\n",
      "inf\n"
     ]
    }
   ],
   "source": [
    "import numpy as np\n",
    "rR=1\n",
    "rF=np.inf\n",
    "alfa = np.arctan(rF/rR)  #arctan di inf fa pi/2\n",
    "d = rF * np.cos(alfa)\n",
    "\n",
    "print(alfa)\n",
    "print(np.cos(alfa))\n",
    "print(d)"
   ]
  },
  {
   "cell_type": "code",
   "execution_count": 12,
   "metadata": {},
   "outputs": [
    {
     "name": "stdout",
     "output_type": "stream",
     "text": [
      "[1, 1]\n"
     ]
    },
    {
     "ename": "ValueError",
     "evalue": "all the input array dimensions except for the concatenation axis must match exactly, but along dimension 1, the array at index 0 has size 0 and the array at index 1 has size 1",
     "output_type": "error",
     "traceback": [
      "\u001b[1;31m---------------------------------------------------------------------------\u001b[0m",
      "\u001b[1;31mValueError\u001b[0m                                Traceback (most recent call last)",
      "Cell \u001b[1;32mIn[12], line 7\u001b[0m\n\u001b[0;32m      5\u001b[0m \u001b[38;5;28mprint\u001b[39m(a)\n\u001b[0;32m      6\u001b[0m b \u001b[38;5;241m=\u001b[39m []\n\u001b[1;32m----> 7\u001b[0m \u001b[43mnp\u001b[49m\u001b[38;5;241;43m.\u001b[39;49m\u001b[43mvstack\u001b[49m\u001b[43m(\u001b[49m\u001b[43m(\u001b[49m\u001b[43mb\u001b[49m\u001b[43m,\u001b[49m\u001b[43momega\u001b[49m\u001b[43m)\u001b[49m\u001b[43m)\u001b[49m\n",
      "File \u001b[1;32mc:\\Users\\gabri\\anaconda3\\envs\\drones\\lib\\site-packages\\numpy\\core\\shape_base.py:289\u001b[0m, in \u001b[0;36mvstack\u001b[1;34m(tup, dtype, casting)\u001b[0m\n\u001b[0;32m    287\u001b[0m \u001b[38;5;28;01mif\u001b[39;00m \u001b[38;5;129;01mnot\u001b[39;00m \u001b[38;5;28misinstance\u001b[39m(arrs, \u001b[38;5;28mlist\u001b[39m):\n\u001b[0;32m    288\u001b[0m     arrs \u001b[38;5;241m=\u001b[39m [arrs]\n\u001b[1;32m--> 289\u001b[0m \u001b[38;5;28;01mreturn\u001b[39;00m \u001b[43m_nx\u001b[49m\u001b[38;5;241;43m.\u001b[39;49m\u001b[43mconcatenate\u001b[49m\u001b[43m(\u001b[49m\u001b[43marrs\u001b[49m\u001b[43m,\u001b[49m\u001b[43m \u001b[49m\u001b[38;5;241;43m0\u001b[39;49m\u001b[43m,\u001b[49m\u001b[43m \u001b[49m\u001b[43mdtype\u001b[49m\u001b[38;5;241;43m=\u001b[39;49m\u001b[43mdtype\u001b[49m\u001b[43m,\u001b[49m\u001b[43m \u001b[49m\u001b[43mcasting\u001b[49m\u001b[38;5;241;43m=\u001b[39;49m\u001b[43mcasting\u001b[49m\u001b[43m)\u001b[49m\n",
      "\u001b[1;31mValueError\u001b[0m: all the input array dimensions except for the concatenation axis must match exactly, but along dimension 1, the array at index 0 has size 0 and the array at index 1 has size 1"
     ]
    }
   ],
   "source": [
    "omega= 1\n",
    "a = []\n",
    "a.append(omega)\n",
    "a.append(omega)\n",
    "print(a)\n",
    "b = []\n",
    "np.vstack((b,omega))\n"
   ]
  },
  {
   "cell_type": "code",
   "execution_count": 18,
   "metadata": {},
   "outputs": [
    {
     "name": "stdout",
     "output_type": "stream",
     "text": [
      "[[0.]\n",
      " [0.]\n",
      " [0.]\n",
      " [0.]]\n",
      "[[ 0.  ]\n",
      " [-0.06]\n",
      " [ 0.  ]\n",
      " [ 0.  ]]\n"
     ]
    }
   ],
   "source": [
    "NUM_DRONES = 4\n",
    "omega = np.array([[0.] for j in range(NUM_DRONES)])\n",
    "sWF = [5 , 2]\n",
    "cw = 0.03\n",
    "print(omega      )\n",
    "\n",
    "omega [1] = ([-1*sWF[1]*cw])\n",
    "print(omega     )"
   ]
  },
  {
   "cell_type": "code",
   "execution_count": 3,
   "metadata": {},
   "outputs": [
    {
     "name": "stdout",
     "output_type": "stream",
     "text": [
      "[]\n",
      "(3, 0)\n",
      "[]\n",
      "(3, 0)\n",
      "[]\n",
      "(3, 0)\n"
     ]
    }
   ],
   "source": [
    "import numpy as np\n",
    "CLOUD_POINT = np.empty((3,0))\n",
    "print(CLOUD_POINT)\n",
    "print(CLOUD_POINT.shape)\n",
    "\n",
    "PREV_DIST = np.array([[] for j in range(3)])\n",
    "print(PREV_DIST)\n",
    "print(PREV_DIST.shape)\n",
    "PREV_DIST[2] =  ([0])\n",
    "print(PREV_DIST)\n",
    "print(PREV_DIST.shape)"
   ]
  },
  {
   "cell_type": "code",
   "execution_count": 27,
   "metadata": {},
   "outputs": [
    {
     "name": "stdout",
     "output_type": "stream",
     "text": [
      "inf\n",
      "daje\n"
     ]
    }
   ],
   "source": [
    "NWdistance = np.inf\n",
    "SWdistance =  np.inf\n",
    "distance = min(NWdistance, SWdistance)\n",
    "print(distance)\n",
    "if distance == np.inf:\n",
    "    print(\"daje\")"
   ]
  },
  {
   "cell_type": "code",
   "execution_count": 28,
   "metadata": {},
   "outputs": [
    {
     "name": "stdout",
     "output_type": "stream",
     "text": [
      "[[inf inf]]\n",
      "[0 0]\n",
      "(2,)\n"
     ]
    }
   ],
   "source": [
    "import numpy as np\n",
    "distance=np.array([[np.inf , np.inf] for j in range(1)] )\n",
    "print(distance)\n",
    "\n",
    "omega1 = np.array([0 , 0])\n",
    "print(omega1)\n",
    "print(omega1.shape)\n"
   ]
  },
  {
   "cell_type": "code",
   "execution_count": 40,
   "metadata": {},
   "outputs": [
    {
     "name": "stdout",
     "output_type": "stream",
     "text": [
      "[3.0]\n",
      "[[0.]\n",
      " [0.]\n",
      " [0.]]\n",
      "[[0.]\n",
      " [3.]\n",
      " [0.]]\n",
      "[3.]\n"
     ]
    }
   ],
   "source": [
    "Omega = ([3.])\n",
    "print(Omega)\n",
    "\n",
    "\n",
    "omega = np.array([[0.] for j in range(3)])\n",
    "print(omega)\n",
    "omega[1] = Omega\n",
    "print(omega)\n",
    "print(omega[1])\n"
   ]
  },
  {
   "cell_type": "code",
   "execution_count": 41,
   "metadata": {},
   "outputs": [
    {
     "name": "stdout",
     "output_type": "stream",
     "text": [
      "[3.0]\n",
      "[0. 0. 0.]\n",
      "[0. 3. 0.]\n",
      "3.0\n"
     ]
    }
   ],
   "source": [
    "# forse dovremmo fare così per quando sono liste di valori e non di vettori\n",
    "Omega = ([3.])\n",
    "print(Omega)\n",
    "\n",
    "\n",
    "omega = np.array([0. for j in range(3)])\n",
    "print(omega)\n",
    "omega[1] = Omega[0]\n",
    "print(omega)\n",
    "print(omega[1])\n",
    "#print(omega[1][0])"
   ]
  },
  {
   "cell_type": "code",
   "execution_count": 2,
   "metadata": {},
   "outputs": [
    {
     "name": "stdout",
     "output_type": "stream",
     "text": [
      "-1\n"
     ]
    },
    {
     "data": {
      "text/plain": [
       "1.5707963267948966"
      ]
     },
     "execution_count": 2,
     "metadata": {},
     "output_type": "execute_result"
    }
   ],
   "source": [
    "s_WF: int = -1\n",
    "S_WF = np.array([[s_WF] for j in range(3)])\n",
    "print(S_WF[1][0])\n",
    "np.arctan(np.inf)"
   ]
  },
  {
   "cell_type": "code",
   "execution_count": 1,
   "metadata": {},
   "outputs": [
    {
     "ename": "ValueError",
     "evalue": "setting an array element with a sequence. The requested array has an inhomogeneous shape after 1 dimensions. The detected shape was (2,) + inhomogeneous part.",
     "output_type": "error",
     "traceback": [
      "\u001b[1;31m---------------------------------------------------------------------------\u001b[0m",
      "\u001b[1;31mValueError\u001b[0m                                Traceback (most recent call last)",
      "Cell \u001b[1;32mIn[1], line 2\u001b[0m\n\u001b[0;32m      1\u001b[0m \u001b[38;5;28;01mimport\u001b[39;00m \u001b[38;5;21;01mnumpy\u001b[39;00m \u001b[38;5;28;01mas\u001b[39;00m \u001b[38;5;21;01mnp\u001b[39;00m\n\u001b[1;32m----> 2\u001b[0m distance\u001b[38;5;241m=\u001b[39m\u001b[43mnp\u001b[49m\u001b[38;5;241;43m.\u001b[39;49m\u001b[43marray\u001b[49m\u001b[43m(\u001b[49m\u001b[43m[\u001b[49m\u001b[43m \u001b[49m\u001b[43m[\u001b[49m\u001b[43m[\u001b[49m\u001b[38;5;124;43m\"\u001b[39;49m\u001b[38;5;124;43mdroneID\u001b[39;49m\u001b[38;5;124;43m\"\u001b[39;49m\u001b[43m]\u001b[49m\u001b[43m]\u001b[49m\u001b[43m \u001b[49m\u001b[43m,\u001b[49m\u001b[43m \u001b[49m\u001b[43m[\u001b[49m\u001b[43m[\u001b[49m\u001b[43m \u001b[49m\u001b[38;5;241;43m1.\u001b[39;49m\u001b[43m \u001b[49m\u001b[43m,\u001b[49m\u001b[43m \u001b[49m\u001b[38;5;241;43m1.\u001b[39;49m\u001b[43m \u001b[49m\u001b[43m,\u001b[49m\u001b[43m \u001b[49m\u001b[38;5;241;43m1.\u001b[39;49m\u001b[43m]\u001b[49m\u001b[43m \u001b[49m\u001b[38;5;28;43;01mfor\u001b[39;49;00m\u001b[43m \u001b[49m\u001b[43mj\u001b[49m\u001b[43m \u001b[49m\u001b[38;5;129;43;01min\u001b[39;49;00m\u001b[43m \u001b[49m\u001b[38;5;28;43mrange\u001b[39;49m\u001b[43m(\u001b[49m\u001b[38;5;241;43m10\u001b[39;49m\u001b[43m)\u001b[49m\u001b[43m]\u001b[49m\u001b[43m  \u001b[49m\u001b[43m]\u001b[49m\u001b[43m)\u001b[49m\n\u001b[0;32m      3\u001b[0m \u001b[38;5;28mprint\u001b[39m(distance)\n\u001b[0;32m      5\u001b[0m np\u001b[38;5;241m.\u001b[39marctan(np\u001b[38;5;241m.\u001b[39minf)\n",
      "\u001b[1;31mValueError\u001b[0m: setting an array element with a sequence. The requested array has an inhomogeneous shape after 1 dimensions. The detected shape was (2,) + inhomogeneous part."
     ]
    }
   ],
   "source": [
    "import numpy as np\n",
    "distance=np.array([ [[\"droneID\"]] , [[ 1. , 1. , 1.] for j in range(10)]  ])\n",
    "print(distance)\n",
    "\n"
   ]
  },
  {
   "cell_type": "code",
   "execution_count": 43,
   "metadata": {},
   "outputs": [
    {
     "name": "stdout",
     "output_type": "stream",
     "text": [
      "13\n",
      "2.0\n"
     ]
    },
    {
     "ename": "IndexError",
     "evalue": "invalid index to scalar variable.",
     "output_type": "error",
     "traceback": [
      "\u001b[1;31m---------------------------------------------------------------------------\u001b[0m",
      "\u001b[1;31mIndexError\u001b[0m                                Traceback (most recent call last)",
      "Cell \u001b[1;32mIn[43], line 5\u001b[0m\n\u001b[0;32m      3\u001b[0m a \u001b[38;5;241m=\u001b[39m np\u001b[38;5;241m.\u001b[39mclip(a, \u001b[38;5;241m-\u001b[39m\u001b[38;5;241m2.\u001b[39m, \u001b[38;5;241m2.\u001b[39m)\n\u001b[0;32m      4\u001b[0m \u001b[38;5;28mprint\u001b[39m(a)\n\u001b[1;32m----> 5\u001b[0m a[\u001b[38;5;241m2\u001b[39m] \u001b[38;5;241m=\u001b[39m np\u001b[38;5;241m.\u001b[39mclip(\u001b[43ma\u001b[49m\u001b[43m[\u001b[49m\u001b[38;5;241;43m2\u001b[39;49m\u001b[43m]\u001b[49m, \u001b[38;5;241m-\u001b[39m\u001b[38;5;241m0.15\u001b[39m, \u001b[38;5;241m.15\u001b[39m)\n\u001b[0;32m      6\u001b[0m \u001b[38;5;28mprint\u001b[39m(a)\n",
      "\u001b[1;31mIndexError\u001b[0m: invalid index to scalar variable."
     ]
    }
   ],
   "source": [
    "\n",
    "\n",
    "a = 13\n",
    "print(a)\n",
    "a = np.clip(a, -2., 2.)\n",
    "print(a)\n",
    "a[2] = np.clip(a[2], -0.15, .15)\n",
    "print(a)"
   ]
  },
  {
   "cell_type": "code",
   "execution_count": 1,
   "metadata": {},
   "outputs": [
    {
     "name": "stdout",
     "output_type": "stream",
     "text": [
      "[[0. 0. 0.]\n",
      " [0. 0. 0.]\n",
      " [0. 0. 0.]]\n",
      "[[0. 0. 0.]\n",
      " [1. 1. 1.]\n",
      " [0. 0. 0.]]\n"
     ]
    }
   ],
   "source": [
    "import numpy as np\n",
    "NUM_DRONES = 3 \n",
    "wfstatezero_debugger = np.array([[0. , 0. , 0.] for j in range(NUM_DRONES)] )\n",
    "print(wfstatezero_debugger)\n",
    "wfstatezero_debugger[1] = [1. , 1. , 1.]\n",
    "print(wfstatezero_debugger)"
   ]
  },
  {
   "cell_type": "code",
   "execution_count": 23,
   "metadata": {},
   "outputs": [
    {
     "name": "stdout",
     "output_type": "stream",
     "text": [
      "[[1, 1, [3.3, 2.1, 1.5], 'stringa'], [1, 1, [3.3, 2.1, 1.5], 'stringa'], [1, 1, [3.3, 2.1, 1.5], 'stringa'], [1, 1, [3.3, 2.1, 1.5], 'stringa']]\n"
     ]
    }
   ],
   "source": [
    "import numpy as np\n",
    "NUM_DRONES = 4\n",
    "#points_db = np.array([[[0. , 0. , 0.],[0.]] for j in range(NUM_DRONES)] )\n",
    "points_db = [ [1, 1, [3.3, 2.1, 1.5], 'stringa'] for j in range(NUM_DRONES) ]\n",
    "#points_db = np.hstack( [[1, 1, [3.3, 2.1, 1.5], 'stringa'] for j in range(NUM_DRONES)] )\n",
    "\n",
    "print(points_db)"
   ]
  },
  {
   "cell_type": "code",
   "execution_count": 90,
   "metadata": {},
   "outputs": [
    {
     "name": "stdout",
     "output_type": "stream",
     "text": [
      "{'0001': {'coords': [3.0, 1.8, 1.0], 'type': 'junction'}, '0002': {'coords': [3.3, 2.3, 1.0], 'type': 'corridor'}, '0003': {'coords': [1.0, 1.0, 1.0], 'type': 'corridor'}}\n",
      "3\n",
      "<class 'str'>\n",
      "<class 'dict'>\n",
      "<class 'str'>\n",
      "<class 'dict'>\n",
      "<class 'str'>\n",
      "<class 'dict'>\n",
      "[3.0, 1.8, 1.0]\n",
      "{1: {'0001': {'coords': [3.0, 1.8, 1.0], 'type': 'junction'}, '0002': {'coords': [3.3, 2.3, 1.0], 'type': 'corridor'}, '0003': {'coords': [1.0, 1.0, 1.0], 'type': 'corridor'}}, 2: {'0001': {'coords': [4.3, 3.1, 1.0], 'type': 'crossway'}, '0002': {'coords': [4.5, 3.3, 1.0], 'type': 'corridor'}}}\n",
      "[[0. 1.]\n",
      " [1. 0.]]\n",
      "{'0001': {'coords': [4.3, 3.1, 1.0], 'type': 'crossway'}, '0002': {'coords': [4.5, 3.3, 1.0], 'type': 'corridor'}, '0003': {'coords': [3.4, 2.3, 1.0], 'type': 'corridor'}}\n",
      "{1: {'0001': {'coords': [3.0, 1.8, 1.0], 'type': 'junction'}, '0002': {'coords': [3.3, 2.3, 1.0], 'type': 'corridor'}, '0003': {'coords': [1.0, 1.0, 1.0], 'type': 'corridor'}}, 2: {'0001': {'coords': [4.3, 3.1, 1.0], 'type': 'crossway'}, '0002': {'coords': [4.5, 3.3, 1.0], 'type': 'corridor'}, '0003': {'coords': [3.4, 2.3, 1.0], 'type': 'corridor'}}}\n",
      "{1: {'0001': {'coords': [3.0, 1.8, 1.0], 'type': 'junction'}, '0002': {'coords': [3.3499999999999996, 2.3, 1.0], 'type': 'corridor'}, '0003': {'coords': [1.0, 1.0, 1.0], 'type': 'corridor'}}, 2: {'0001': {'coords': [4.3, 3.1, 1.0], 'type': 'crossway'}, '0002': {'coords': [4.5, 3.3, 1.0], 'type': 'corridor'}, '0003': {'coords': [3.3499999999999996, 2.3, 1.0], 'type': 'corridor'}}}\n"
     ]
    }
   ],
   "source": [
    "import numpy as np\n",
    "\n",
    "drones_db = {\n",
    "                1: {\n",
    "                    '0001': {'coords': [3.0, 1.8, 1.0], 'type': 'junction'},\n",
    "                    '0002': {'coords': [3.3, 2.3, 1.0], 'type': 'corridor'},\n",
    "                    '0003': {'coords': [1.0, 1.0, 1.0], 'type': 'corridor'}\n",
    "                },\n",
    "                2: {\n",
    "                    '0001' : {'coords': [4.3, 3.1, 1.0], 'type': 'crossway'},\n",
    "                    '0002' : {'coords': [4.5, 3.3, 1.0], 'type': 'corridor'}\n",
    "                }\n",
    "}\n",
    "print(drones_db[1])\n",
    "print(len(drones_db[1]))\n",
    "for id1, data1 in drones_db[1].items():\n",
    "    print(type(id1))\n",
    "    print(type(data1))\n",
    "    \n",
    "\n",
    "print(drones_db[1]['0001']['coords'])\n",
    "print(drones_db)\n",
    "adjacency_matrix = np.array([[0. , 1. ], [1. , 0. ]])\n",
    "print(adjacency_matrix)\n",
    "\n",
    "#aggiungere punto \n",
    "drones_db[2]['0003'] = {'coords': [3.4, 2.3, 1.0], 'type': 'corridor'}\n",
    "print(drones_db[2])\n",
    "\n",
    "def euclidean_distance(point1, point2):\n",
    "    return np.linalg.norm(np.array(point1) - np.array(point2))\n",
    "\n",
    "def merge_similar_points(drones_db, drone1_id, drone2_id, threshold=0.5):\n",
    "    drone1_points = drones_db[drone1_id]\n",
    "    drone2_points = drones_db[drone2_id]\n",
    "    \n",
    "    for id1, data1 in drone1_points.items():\n",
    "        for id2, data2 in drone2_points.items():\n",
    "            if euclidean_distance(data1['coords'], data2['coords']) < threshold:\n",
    "                # Calcola la media delle coordinate\n",
    "                new_coords = np.mean([data1['coords'], data2['coords']], axis=0).tolist()\n",
    "                # Aggiorna i punti con le coordinate mediate\n",
    "                drones_db[drone1_id][id1]['coords'] = new_coords\n",
    "                drones_db[drone2_id][id2]['coords'] = new_coords\n",
    "print(drones_db)\n",
    "merge_similar_points(drones_db, 1, 2, threshold=0.5)\n",
    "print(drones_db)\n"
   ]
  },
  {
   "cell_type": "code",
   "execution_count": 13,
   "metadata": {},
   "outputs": [
    {
     "name": "stdout",
     "output_type": "stream",
     "text": [
      "012_0008\n"
     ]
    }
   ],
   "source": [
    "drone_id = 12\n",
    "point_id = '0008'\n",
    "custom_id = f\"{drone_id:03}_{point_id}\"\n",
    "print(custom_id)"
   ]
  },
  {
   "cell_type": "code",
   "execution_count": 15,
   "metadata": {},
   "outputs": [
    {
     "name": "stdout",
     "output_type": "stream",
     "text": [
      "0005\n"
     ]
    }
   ],
   "source": [
    "def increment_point_id(point_id):\n",
    "    \"\"\"Incrementa una stringa di point_id del tipo 'xxxx' di 1\"\"\"\n",
    "    return f'{int(point_id) + 1:04}'\n",
    "\n",
    "point_id = '0004'\n",
    "point_id = increment_point_id(point_id)\n",
    "print(point_id)"
   ]
  },
  {
   "cell_type": "code",
   "execution_count": 19,
   "metadata": {},
   "outputs": [
    {
     "name": "stdout",
     "output_type": "stream",
     "text": [
      "0004\n"
     ]
    }
   ],
   "source": [
    "def increment_point_id(point_id,quantity):\n",
    "    \"\"\"Incrementa una stringa di point_id del tipo 'xxxx' di 1\"\"\"\n",
    "    return f'{int(point_id) + quantity:04}'\n",
    "\n",
    "point_id = '0004'\n",
    "point_id = increment_point_id(point_id,0)\n",
    "print(point_id)"
   ]
  },
  {
   "cell_type": "code",
   "execution_count": 20,
   "metadata": {},
   "outputs": [
    {
     "name": "stdout",
     "output_type": "stream",
     "text": [
      "['0001', '0002', '0002', '0003']\n",
      "{'0003', '0001', '0002'}\n"
     ]
    }
   ],
   "source": [
    "to_remove_drone1=['0001', '0002', '0002', '0003' ]\n",
    "print(to_remove_drone1)\n",
    "\n",
    "\n",
    "to_remove_drone1 = set(to_remove_drone1)\n",
    "print(to_remove_drone1)"
   ]
  },
  {
   "cell_type": "code",
   "execution_count": 47,
   "metadata": {},
   "outputs": [
    {
     "name": "stdout",
     "output_type": "stream",
     "text": [
      "[[0 1 0 0 0 0 0]\n",
      " [1 0 1 0 0 0 0]\n",
      " [0 1 0 1 0 0 0]\n",
      " [0 0 1 0 1 0 0]\n",
      " [0 0 0 1 0 1 0]\n",
      " [0 0 0 0 1 0 1]\n",
      " [0 0 0 0 0 1 0]]\n",
      "7\n",
      "[[0 1 0 0 0 0 0 0]\n",
      " [1 0 1 0 0 0 0 0]\n",
      " [0 1 0 1 0 0 0 0]\n",
      " [0 0 1 0 1 0 0 0]\n",
      " [0 0 0 1 0 1 0 0]\n",
      " [0 0 0 0 1 0 0 1]\n",
      " [0 0 0 0 0 0 0 0]\n",
      " [0 0 0 0 0 1 0 0]]\n"
     ]
    }
   ],
   "source": [
    "import numpy as np\n",
    "def replace_node_in_adjacency_matrix(adjacency_matrix, old_node, new_node):\n",
    "        \"\"\"\n",
    "        Sostituisce un nodo in una matrice di adiacenza con un nuovo nodo, trasferendo tutti gli edge.\n",
    "\n",
    "        Parameters\n",
    "        ----------\n",
    "        adjacency_matrix : np.ndarray\n",
    "            La matrice di adiacenza.\n",
    "        old_node : int\n",
    "            L'indice del nodo da sostituire.\n",
    "        new_node : int\n",
    "            L'indice del nuovo nodo.\n",
    "\n",
    "        Returns\n",
    "        -------\n",
    "        np.ndarray\n",
    "            La nuova matrice di adiacenza con il nodo sostituito.\n",
    "        \"\"\"\n",
    "        num_nodes = adjacency_matrix.shape[0]\n",
    "\n",
    "        # Creiamo una nuova matrice di adiacenza con una dimensione aumentata di 1\n",
    "        new_matrix = np.zeros((num_nodes + 1, num_nodes + 1), dtype=int)\n",
    "\n",
    "        # Copiamo la matrice di adiacenza originale nella nuova matrice\n",
    "        new_matrix[:num_nodes, :num_nodes] = adjacency_matrix\n",
    "\n",
    "        # Trasferiamo tutti gli edge dal vecchio nodo al nuovo nodo\n",
    "        new_matrix[new_node, :-1] = adjacency_matrix[old_node, :]\n",
    "        new_matrix[:-1, new_node] = adjacency_matrix[:, old_node]\n",
    "\n",
    "        # Impostiamo a zero la riga e la colonna del vecchio nodo\n",
    "        new_matrix[old_node, :] = 0\n",
    "        new_matrix[:, old_node] = 0\n",
    "\n",
    "        return new_matrix\n",
    "adjacency_matrix=np.array([[0 ,1 , 0 ,0 , 0 , 0 , 0],\n",
    "                           [1 ,0 , 1 ,0 , 0 , 0 , 0],\n",
    "                           [0 ,1 , 0 ,1 , 0 , 0 , 0],\n",
    "                           [0 ,0 , 1 ,0 , 1 , 0 , 0],\n",
    "                           [0 ,0 , 0 ,1 , 0 , 1 , 0],\n",
    "                           [0 ,0 , 0 ,0 , 1 , 0 , 1],\n",
    "                           [0 ,0 , 0 ,0 , 0 , 1 , 0]])\n",
    "print(adjacency_matrix)\n",
    "\n",
    "#FUNCTION SIMULATION\n",
    "new_node = 7\n",
    "old_node = 6 \n",
    "num_nodes = adjacency_matrix.shape[0]\n",
    "print(num_nodes)\n",
    "new_matrix = np.zeros((num_nodes + 1, num_nodes + 1), dtype=int)\n",
    "new_matrix[:num_nodes, :num_nodes] = adjacency_matrix\n",
    "#print(new_matrix)\n",
    "new_matrix[new_node, :-1] = adjacency_matrix[old_node, :]\n",
    "new_matrix[:-1, new_node] = adjacency_matrix[:, old_node]\n",
    "#print(new_matrix)\n",
    "new_matrix[old_node, :] = 0\n",
    "new_matrix[:, old_node] = 0\n",
    "print(new_matrix)\n",
    "# current_matrix = replace_node_in_adjacency_matrix(current_matrix,4,7)\n",
    "# print(current_matrix)\n",
    "# new_matrix = np.pad(current_matrix, ((0, 1), (0, 1)), mode='constant', constant_values=0)\n",
    "# print(new_matrix)"
   ]
  },
  {
   "cell_type": "code",
   "execution_count": 49,
   "metadata": {},
   "outputs": [
    {
     "name": "stdout",
     "output_type": "stream",
     "text": [
      "0\n",
      "1\n",
      "2\n",
      "3\n",
      "4\n",
      "5\n",
      "6\n"
     ]
    }
   ],
   "source": [
    "num_nodes=7\n",
    "for i in range(num_nodes):\n",
    "    print(i)"
   ]
  },
  {
   "cell_type": "code",
   "execution_count": 3,
   "metadata": {},
   "outputs": [
    {
     "name": "stdout",
     "output_type": "stream",
     "text": [
      "[[False]\n",
      " [False]\n",
      " [False]\n",
      " [False]\n",
      " [False]]\n"
     ]
    }
   ],
   "source": [
    "NUM_DRONES = 5\n",
    "import numpy as np\n",
    "IM_IN_A_CORNER = np.array([[False] for j in range(NUM_DRONES)] )\n",
    "print(IM_IN_A_CORNER)"
   ]
  },
  {
   "cell_type": "code",
   "execution_count": 11,
   "metadata": {},
   "outputs": [
    {
     "name": "stdout",
     "output_type": "stream",
     "text": [
      "{(3.3, 2.3, 1.0), (1.0, 1.0, 1.0), (3.0, 1.8, 1.0)}\n",
      "non trovato\n"
     ]
    }
   ],
   "source": [
    "seen_coords = set()\n",
    "new_coords = tuple(np.array([3.0, 1.8, 1.0]).tolist())\n",
    "seen_coords.add(new_coords)\n",
    "new_coords = tuple(np.array([3.3, 2.3, 1.0]).tolist())\n",
    "seen_coords.add(new_coords)\n",
    "new_coords = tuple(np.array([1.0, 1.0, 1.0]).tolist())\n",
    "seen_coords.add(new_coords)\n",
    "new_coords = tuple(np.array([1.0, 1.0, 1.0]).tolist())\n",
    "\n",
    "seen_coords.add(new_coords)\n",
    "print(seen_coords)\n",
    "\n",
    "new_coords = tuple(np.array([1.0, 1.0, 1.0]).tolist())\n",
    "\n",
    "if new_coords not in seen_coords:\n",
    "    print(\"trovato\")\n",
    "else:\n",
    "    print(\"non trovato\")\n"
   ]
  }
 ],
 "metadata": {
  "kernelspec": {
   "display_name": "drones",
   "language": "python",
   "name": "python3"
  },
  "language_info": {
   "codemirror_mode": {
    "name": "ipython",
    "version": 3
   },
   "file_extension": ".py",
   "mimetype": "text/x-python",
   "name": "python",
   "nbconvert_exporter": "python",
   "pygments_lexer": "ipython3",
   "version": "3.10.14"
  }
 },
 "nbformat": 4,
 "nbformat_minor": 2
}
