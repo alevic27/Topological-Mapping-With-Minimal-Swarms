{
 "cells": [
  {
   "cell_type": "code",
   "execution_count": 1,
   "metadata": {},
   "outputs": [
    {
     "name": "stdout",
     "output_type": "stream",
     "text": [
      "[[0. 0. 0.]\n",
      " [0. 0. 0.]\n",
      " [0. 0. 0.]\n",
      " [0. 0. 0.]]\n",
      "[[ 0.866 -0.5    0.   ]\n",
      " [ 0.5    0.866  0.   ]\n",
      " [-0.866  0.5    0.   ]\n",
      " [-0.5   -0.866  0.   ]]\n",
      "[[3 3 3 3]\n",
      " [3 3 3 3]\n",
      " [3 3 3 3]\n",
      " [3 3 3 3]]\n"
     ]
    }
   ],
   "source": [
    "import numpy as np\n",
    "import pybullet as p\n",
    "\n",
    "NUM_DRONES = 4\n",
    "distWallRef = 0.5\n",
    "SENSOR_ATTR = True\n",
    "max_range = 3\n",
    "if SENSOR_ATTR :\n",
    "    sensor_position =np.zeros((4,3)) \n",
    "    print(sensor_position)  # questo è lo zero del mondo\n",
    "    sensor_direction = np.array([\n",
    "    [1.0, 0.0, 0.0],  # front\n",
    "    [0.0, 1.0, 0.0],  # Rx\n",
    "    [-1.0, 0.0, 0.0],   # behind\n",
    "    [0.0, -1.0, 0.0],  # Lx\n",
    "    ])\n",
    "    rot_mat = np.array([      # rot mat esempio SOTTO come estrarla veramente\n",
    "    [0.866, -0.5, 0.0],\n",
    "    [0.5, 0.866, 0.0],\n",
    "    [0.0, 0.0, 1.0]\n",
    "    ])\n",
    "    # rot_mat = np.array(p.getMatrixFromQuaternion(quat[nth_drone, :])).reshape(3, 3)\n",
    "    sensor_direction = np.dot(sensor_direction,rot_mat)   # (3, 3) * () \n",
    "    print(sensor_direction)\n",
    "\n",
    "    observation = np.array([[max_range,max_range,max_range,max_range] for j in range(NUM_DRONES)] )\n",
    "    print(observation)\n",
    "\n",
    "def _sensorsObs():\n",
    "        # observation = np.array([[max_range,max_range,max_range,max_range] for j in range(NUM_DRONES)] )\n",
    "        Hit_point = []\n",
    "        if SENSOR_ATTR:\n",
    "            for i in range(NUM_DRONES):\n",
    "                closest_hit = []\n",
    "                for j in range(NUM_SENSORS) :\n",
    "                    sensor_position = _getDroneStateVector(i)[0:3]  # piazza il sensore nella posiz attuale\n",
    "                    from_positions = [sensor_position] * 4\n",
    "                    \n",
    "                    to_positions = [sensor_position + sensor_direction * 3 for direction in directions.values()]\n",
    "                  #  result = p.rayTest(sensor_position, \n",
    "                  #                      [sensor_position[0] + max_range[0] * sensor_direction[j][0], \n",
    "                  #                      sensor_position[1] + max_range[0] * sensor_direction[j][1], \n",
    "                  #                      sensor_position[2] + max_range[0] * sensor_direction[j][2]])\n",
    "                    result = p.rayTestBatch(from_positions, to_positions)\n",
    "                    closest_hit.append(result[0])\n",
    "                        #closest_hit[j][0] = result_list[j][0]\n",
    "                    # Se c'è un punto di contatto, ottieni la distanza\n",
    "                    if closest_hit[j][0] != -1:\n",
    "                        hit_distance = closest_hit[j][2]\n",
    "                        hit_point = closest_hit[j][3]\n",
    "                        # Aggiungi la distanza rilevata come osservazione\n",
    "                        observation[i][j]= hit_distance\n",
    "                        Hit_point.append(hit_point)\n",
    "                    else:\n",
    "                        # Se non ci sono oggetti rilevati, assegna una distanza massima\n",
    "                        observation[i][j] =  self.max_range\n",
    "                        Hit_point.append([])\n",
    "        return observation, Hit_point"
   ]
  },
  {
   "cell_type": "code",
   "execution_count": 8,
   "metadata": {},
   "outputs": [
    {
     "name": "stdout",
     "output_type": "stream",
     "text": [
      "[0. 0. 0.]\n",
      "[array([0., 0., 0.]), array([0., 0., 0.]), array([0., 0., 0.]), array([0., 0., 0.])]\n",
      "[[ 0.866 -0.5    0.   ]\n",
      " [ 0.5    0.866  0.   ]\n",
      " [-0.866  0.5    0.   ]\n",
      " [-0.5   -0.866  0.   ]]\n",
      "[[0. 0. 0.]\n",
      " [0. 0. 0.]\n",
      " [0. 0. 0.]\n",
      " [0. 0. 0.]]\n",
      "[[ 2.598 -1.5    0.   ]\n",
      " [ 1.5    2.598  0.   ]\n",
      " [-2.598  1.5    0.   ]\n",
      " [-1.5   -2.598  0.   ]]\n"
     ]
    }
   ],
   "source": [
    "max_range = 3\n",
    "sensor_position = np.array([0. , 0. , 0.]) # piazza il sensore nella posiz attuale\n",
    "print(sensor_position)\n",
    "from_positions = [sensor_position] * 4\n",
    "print(from_positions)\n",
    "sensor_direction = [\n",
    "    [1.0, 0.0, 0.0],  # front\n",
    "    [0.0, 1.0, 0.0],  # Rx\n",
    "    [-1.0, 0.0, 0.0],   # behind\n",
    "    [0.0, -1.0, 0.0],  # Lx\n",
    "    ]\n",
    "sensor_direction = np.array(sensor_direction)   # converte in matrice numpy\n",
    "rot_mat = np.array([      # rot mat esempio SOTTO come estrarla veramente\n",
    "    [0.866, -0.5, 0.0],\n",
    "    [0.5, 0.866, 0.0],\n",
    "    [0.0, 0.0, 1.0]\n",
    "    ])\n",
    "    # rot_mat = np.array(p.getMatrixFromQuaternion(quat[nth_drone, :])).reshape(3, 3)\n",
    "sensor_direction = np.dot(sensor_direction,rot_mat)   # (3, 3) * () \n",
    "print(sensor_direction)\n",
    "from_positions = np.tile(sensor_position, (4, 1))\n",
    "print(from_positions)\n",
    "to_positions = np.array([sensor_position + direction * max_range for direction in sensor_direction])\n",
    "print(to_positions)"
   ]
  },
  {
   "cell_type": "code",
   "execution_count": 16,
   "metadata": {},
   "outputs": [
    {
     "name": "stdout",
     "output_type": "stream",
     "text": [
      "[[ 0.866 -0.5    0.   ]\n",
      " [ 0.5    0.866  0.   ]\n",
      " [-0.866  0.5    0.   ]\n",
      " [-0.5   -0.866  0.   ]]\n"
     ]
    }
   ],
   "source": [
    "import numpy as np### TEST PRODOTTO RXC ROTAZIONE\n",
    "sensor_direction = np.array([\n",
    "    [1.0, 0.0, 0.0],  # front\n",
    "    [0.0, 1.0, 0.0],  # Rx\n",
    "    [-1.0, 0.0, 0.0],   # behind\n",
    "    [0.0, -1.0, 0.0],  # Lx\n",
    "    ])\n",
    "rot_mat = np.array([      # rot mat esempio SOTTO come estrarla veramente\n",
    "    [0.866, -0.5, 0.0],\n",
    "    [0.5, 0.866, 0.0],\n",
    "    [0.0, 0.0, 1.0]\n",
    "    ])\n",
    "    # rot_mat = np.array(p.getMatrixFromQuaternion(quat[nth_drone, :])).reshape(3, 3)\n",
    "sensor_direction = np.dot(sensor_direction,rot_mat)   # (3, 3) * ()\n",
    "print(sensor_direction)"
   ]
  },
  {
   "cell_type": "code",
   "execution_count": 8,
   "metadata": {},
   "outputs": [
    {
     "name": "stdout",
     "output_type": "stream",
     "text": [
      "a= [0 0 0]\n",
      "(3,)\n",
      "c= [[0 0 0]\n",
      " [0 0 0]]\n",
      "(2, 3)\n",
      "d= [0 0 0 0 0 0] fatto male\n",
      "(6,)\n",
      "e= [[0 0]\n",
      " [0 0]\n",
      " [0 0]]\n",
      "(3, 2)\n",
      "c e e sono uguali solo se il vettore era di 2 valori\n"
     ]
    }
   ],
   "source": [
    "import numpy as np\n",
    "a=np.array([ 0 , 0 , 0 ])\n",
    "print(\"a=\",a)\n",
    "print(a.shape)\n",
    "b=np.array([ 0 , 0 , 0 ])\n",
    "c = np.vstack((a, b))\n",
    "print(\"c=\",c)\n",
    "print(c.shape)\n",
    "d = np.hstack((a, b))\n",
    "print(\"d=\",d, \"fatto male\")\n",
    "print(d.shape)\n",
    "e = np.hstack((a[:, np.newaxis], b[:, np.newaxis]))\n",
    "print(\"e=\",e)\n",
    "print(e.shape)\n",
    "print(\"c e e sono uguali solo se il vettore era di 2 valori\")"
   ]
  },
  {
   "cell_type": "code",
   "execution_count": 2,
   "metadata": {},
   "outputs": [
    {
     "name": "stdout",
     "output_type": "stream",
     "text": [
      "[[[inf inf inf]\n",
      "  [inf inf inf]\n",
      "  [inf inf inf]\n",
      "  [inf inf inf]]\n",
      "\n",
      " [[inf inf inf]\n",
      "  [inf inf inf]\n",
      "  [inf inf inf]\n",
      "  [inf inf inf]]\n",
      "\n",
      " [[inf inf inf]\n",
      "  [inf inf inf]\n",
      "  [inf inf inf]\n",
      "  [inf inf inf]]]\n",
      "(1.0000000000000002, 0.0, 0.9998298611111112)\n",
      "[[[       inf        inf        inf]\n",
      "  [       inf        inf        inf]\n",
      "  [       inf        inf        inf]\n",
      "  [       inf        inf        inf]]\n",
      "\n",
      " [[1.         0.         0.99982986]\n",
      "  [       inf        inf        inf]\n",
      "  [       inf        inf        inf]\n",
      "  [       inf        inf        inf]]\n",
      "\n",
      " [[       inf        inf        inf]\n",
      "  [       inf        inf        inf]\n",
      "  [       inf        inf        inf]\n",
      "  [       inf        inf        inf]]]\n"
     ]
    }
   ],
   "source": [
    "import numpy as np\n",
    "NUM_DRONES = 3\n",
    "NUM_SENSORS = 4\n",
    "Hit_point = np.array([[[np.inf , np.inf , np.inf] for j in range(NUM_SENSORS)]for i in range(NUM_DRONES)] )\n",
    "print(Hit_point)\n",
    "hit_point = (1.0000000000000002, 0.0, 0.9998298611111112)\n",
    "print(hit_point)\n",
    "Hit_point[1][0] = hit_point\n",
    "print(Hit_point)\n"
   ]
  },
  {
   "cell_type": "code",
   "execution_count": 16,
   "metadata": {},
   "outputs": [
    {
     "name": "stdout",
     "output_type": "stream",
     "text": [
      "[0 2]\n"
     ]
    },
    {
     "ename": "TypeError",
     "evalue": "'float' object is not subscriptable",
     "output_type": "error",
     "traceback": [
      "\u001b[1;31m---------------------------------------------------------------------------\u001b[0m",
      "\u001b[1;31mTypeError\u001b[0m                                 Traceback (most recent call last)",
      "Cell \u001b[1;32mIn[16], line 6\u001b[0m\n\u001b[0;32m      4\u001b[0m idx \u001b[38;5;241m=\u001b[39m np\u001b[38;5;241m.\u001b[39mrandom\u001b[38;5;241m.\u001b[39mchoice(\u001b[38;5;28mlen\u001b[39m(hit_point), \u001b[38;5;241m2\u001b[39m, replace\u001b[38;5;241m=\u001b[39m\u001b[38;5;28;01mFalse\u001b[39;00m)\n\u001b[0;32m      5\u001b[0m \u001b[38;5;28mprint\u001b[39m(idx)\n\u001b[1;32m----> 6\u001b[0m x1, y1 \u001b[38;5;241m=\u001b[39m \u001b[43mhit_point\u001b[49m\u001b[43m[\u001b[49m\u001b[43midx\u001b[49m\u001b[43m[\u001b[49m\u001b[38;5;241;43m0\u001b[39;49m\u001b[43m]\u001b[49m\u001b[43m]\u001b[49m\u001b[43m[\u001b[49m\u001b[38;5;241;43m0\u001b[39;49m\u001b[43m:\u001b[49m\u001b[38;5;241;43m1\u001b[39;49m\u001b[43m]\u001b[49m\n\u001b[0;32m      7\u001b[0m x2, y2 \u001b[38;5;241m=\u001b[39m hit_point[idx[\u001b[38;5;241m1\u001b[39m]][\u001b[38;5;241m0\u001b[39m:\u001b[38;5;241m1\u001b[39m]\n",
      "\u001b[1;31mTypeError\u001b[0m: 'float' object is not subscriptable"
     ]
    }
   ],
   "source": [
    "import numpy as np\n",
    "hit_point = (1.0000000000000002, 0.0, 2.9998298611111112)\n",
    "\n",
    "idx = np.random.choice(len(hit_point), 2, replace=False)\n",
    "print(idx)\n",
    "x1, y1 = hit_point[idx[0]][0:1]\n",
    "x2, y2 = hit_point[idx[1]][0:1]"
   ]
  },
  {
   "cell_type": "code",
   "execution_count": 5,
   "metadata": {},
   "outputs": [
    {
     "name": "stdout",
     "output_type": "stream",
     "text": [
      "1.5707963267948966\n",
      "6.123233995736766e-17\n",
      "inf\n"
     ]
    }
   ],
   "source": [
    "import numpy as np\n",
    "rR=1\n",
    "rF=np.inf\n",
    "alfa = np.arctan(rF/rR)  #arctan di inf fa pi/2\n",
    "d = rF * np.cos(alfa)\n",
    "\n",
    "print(alfa)\n",
    "print(np.cos(alfa))\n",
    "print(d)"
   ]
  },
  {
   "cell_type": "code",
   "execution_count": 12,
   "metadata": {},
   "outputs": [
    {
     "name": "stdout",
     "output_type": "stream",
     "text": [
      "[1, 1]\n"
     ]
    },
    {
     "ename": "ValueError",
     "evalue": "all the input array dimensions except for the concatenation axis must match exactly, but along dimension 1, the array at index 0 has size 0 and the array at index 1 has size 1",
     "output_type": "error",
     "traceback": [
      "\u001b[1;31m---------------------------------------------------------------------------\u001b[0m",
      "\u001b[1;31mValueError\u001b[0m                                Traceback (most recent call last)",
      "Cell \u001b[1;32mIn[12], line 7\u001b[0m\n\u001b[0;32m      5\u001b[0m \u001b[38;5;28mprint\u001b[39m(a)\n\u001b[0;32m      6\u001b[0m b \u001b[38;5;241m=\u001b[39m []\n\u001b[1;32m----> 7\u001b[0m \u001b[43mnp\u001b[49m\u001b[38;5;241;43m.\u001b[39;49m\u001b[43mvstack\u001b[49m\u001b[43m(\u001b[49m\u001b[43m(\u001b[49m\u001b[43mb\u001b[49m\u001b[43m,\u001b[49m\u001b[43momega\u001b[49m\u001b[43m)\u001b[49m\u001b[43m)\u001b[49m\n",
      "File \u001b[1;32mc:\\Users\\gabri\\anaconda3\\envs\\drones\\lib\\site-packages\\numpy\\core\\shape_base.py:289\u001b[0m, in \u001b[0;36mvstack\u001b[1;34m(tup, dtype, casting)\u001b[0m\n\u001b[0;32m    287\u001b[0m \u001b[38;5;28;01mif\u001b[39;00m \u001b[38;5;129;01mnot\u001b[39;00m \u001b[38;5;28misinstance\u001b[39m(arrs, \u001b[38;5;28mlist\u001b[39m):\n\u001b[0;32m    288\u001b[0m     arrs \u001b[38;5;241m=\u001b[39m [arrs]\n\u001b[1;32m--> 289\u001b[0m \u001b[38;5;28;01mreturn\u001b[39;00m \u001b[43m_nx\u001b[49m\u001b[38;5;241;43m.\u001b[39;49m\u001b[43mconcatenate\u001b[49m\u001b[43m(\u001b[49m\u001b[43marrs\u001b[49m\u001b[43m,\u001b[49m\u001b[43m \u001b[49m\u001b[38;5;241;43m0\u001b[39;49m\u001b[43m,\u001b[49m\u001b[43m \u001b[49m\u001b[43mdtype\u001b[49m\u001b[38;5;241;43m=\u001b[39;49m\u001b[43mdtype\u001b[49m\u001b[43m,\u001b[49m\u001b[43m \u001b[49m\u001b[43mcasting\u001b[49m\u001b[38;5;241;43m=\u001b[39;49m\u001b[43mcasting\u001b[49m\u001b[43m)\u001b[49m\n",
      "\u001b[1;31mValueError\u001b[0m: all the input array dimensions except for the concatenation axis must match exactly, but along dimension 1, the array at index 0 has size 0 and the array at index 1 has size 1"
     ]
    }
   ],
   "source": [
    "omega= 1\n",
    "a = []\n",
    "a.append(omega)\n",
    "a.append(omega)\n",
    "print(a)\n",
    "b = []\n",
    "np.vstack((b,omega))\n"
   ]
  },
  {
   "cell_type": "code",
   "execution_count": 18,
   "metadata": {},
   "outputs": [
    {
     "name": "stdout",
     "output_type": "stream",
     "text": [
      "[[0.]\n",
      " [0.]\n",
      " [0.]\n",
      " [0.]]\n",
      "[[ 0.  ]\n",
      " [-0.06]\n",
      " [ 0.  ]\n",
      " [ 0.  ]]\n"
     ]
    }
   ],
   "source": [
    "NUM_DRONES = 4\n",
    "omega = np.array([[0.] for j in range(NUM_DRONES)])\n",
    "sWF = [5 , 2]\n",
    "cw = 0.03\n",
    "print(omega      )\n",
    "\n",
    "omega [1] = ([-1*sWF[1]*cw])\n",
    "print(omega     )"
   ]
  },
  {
   "cell_type": "code",
   "execution_count": 3,
   "metadata": {},
   "outputs": [
    {
     "name": "stdout",
     "output_type": "stream",
     "text": [
      "[]\n",
      "(3, 0)\n",
      "[]\n",
      "(3, 0)\n",
      "[]\n",
      "(3, 0)\n"
     ]
    }
   ],
   "source": [
    "import numpy as np\n",
    "CLOUD_POINT = np.empty((3,0))\n",
    "print(CLOUD_POINT)\n",
    "print(CLOUD_POINT.shape)\n",
    "\n",
    "PREV_DIST = np.array([[] for j in range(3)])\n",
    "print(PREV_DIST)\n",
    "print(PREV_DIST.shape)\n",
    "PREV_DIST[2] =  ([0])\n",
    "print(PREV_DIST)\n",
    "print(PREV_DIST.shape)"
   ]
  },
  {
   "cell_type": "code",
   "execution_count": 27,
   "metadata": {},
   "outputs": [
    {
     "name": "stdout",
     "output_type": "stream",
     "text": [
      "inf\n",
      "daje\n"
     ]
    }
   ],
   "source": [
    "NWdistance = np.inf\n",
    "SWdistance =  np.inf\n",
    "distance = min(NWdistance, SWdistance)\n",
    "print(distance)\n",
    "if distance == np.inf:\n",
    "    print(\"daje\")"
   ]
  },
  {
   "cell_type": "code",
   "execution_count": 28,
   "metadata": {},
   "outputs": [
    {
     "name": "stdout",
     "output_type": "stream",
     "text": [
      "[[inf inf]]\n",
      "[0 0]\n",
      "(2,)\n"
     ]
    }
   ],
   "source": [
    "import numpy as np\n",
    "distance=np.array([[np.inf , np.inf] for j in range(1)] )\n",
    "print(distance)\n",
    "\n",
    "omega1 = np.array([0 , 0])\n",
    "print(omega1)\n",
    "print(omega1.shape)\n"
   ]
  },
  {
   "cell_type": "code",
   "execution_count": 40,
   "metadata": {},
   "outputs": [
    {
     "name": "stdout",
     "output_type": "stream",
     "text": [
      "[3.0]\n",
      "[[0.]\n",
      " [0.]\n",
      " [0.]]\n",
      "[[0.]\n",
      " [3.]\n",
      " [0.]]\n",
      "[3.]\n"
     ]
    }
   ],
   "source": [
    "Omega = ([3.])\n",
    "print(Omega)\n",
    "\n",
    "\n",
    "omega = np.array([[0.] for j in range(3)])\n",
    "print(omega)\n",
    "omega[1] = Omega\n",
    "print(omega)\n",
    "print(omega[1])\n"
   ]
  },
  {
   "cell_type": "code",
   "execution_count": 41,
   "metadata": {},
   "outputs": [
    {
     "name": "stdout",
     "output_type": "stream",
     "text": [
      "[3.0]\n",
      "[0. 0. 0.]\n",
      "[0. 3. 0.]\n",
      "3.0\n"
     ]
    }
   ],
   "source": [
    "# forse dovremmo fare così per quando sono liste di valori e non di vettori\n",
    "Omega = ([3.])\n",
    "print(Omega)\n",
    "\n",
    "\n",
    "omega = np.array([0. for j in range(3)])\n",
    "print(omega)\n",
    "omega[1] = Omega[0]\n",
    "print(omega)\n",
    "print(omega[1])\n",
    "#print(omega[1][0])"
   ]
  },
  {
   "cell_type": "code",
   "execution_count": 2,
   "metadata": {},
   "outputs": [
    {
     "name": "stdout",
     "output_type": "stream",
     "text": [
      "-1\n"
     ]
    },
    {
     "data": {
      "text/plain": [
       "1.5707963267948966"
      ]
     },
     "execution_count": 2,
     "metadata": {},
     "output_type": "execute_result"
    }
   ],
   "source": [
    "s_WF: int = -1\n",
    "S_WF = np.array([[s_WF] for j in range(3)])\n",
    "print(S_WF[1][0])\n",
    "np.arctan(np.inf)"
   ]
  },
  {
   "cell_type": "code",
   "execution_count": 1,
   "metadata": {},
   "outputs": [
    {
     "ename": "ValueError",
     "evalue": "setting an array element with a sequence. The requested array has an inhomogeneous shape after 1 dimensions. The detected shape was (2,) + inhomogeneous part.",
     "output_type": "error",
     "traceback": [
      "\u001b[1;31m---------------------------------------------------------------------------\u001b[0m",
      "\u001b[1;31mValueError\u001b[0m                                Traceback (most recent call last)",
      "Cell \u001b[1;32mIn[1], line 2\u001b[0m\n\u001b[0;32m      1\u001b[0m \u001b[38;5;28;01mimport\u001b[39;00m \u001b[38;5;21;01mnumpy\u001b[39;00m \u001b[38;5;28;01mas\u001b[39;00m \u001b[38;5;21;01mnp\u001b[39;00m\n\u001b[1;32m----> 2\u001b[0m distance\u001b[38;5;241m=\u001b[39m\u001b[43mnp\u001b[49m\u001b[38;5;241;43m.\u001b[39;49m\u001b[43marray\u001b[49m\u001b[43m(\u001b[49m\u001b[43m[\u001b[49m\u001b[43m \u001b[49m\u001b[43m[\u001b[49m\u001b[43m[\u001b[49m\u001b[38;5;124;43m\"\u001b[39;49m\u001b[38;5;124;43mdroneID\u001b[39;49m\u001b[38;5;124;43m\"\u001b[39;49m\u001b[43m]\u001b[49m\u001b[43m]\u001b[49m\u001b[43m \u001b[49m\u001b[43m,\u001b[49m\u001b[43m \u001b[49m\u001b[43m[\u001b[49m\u001b[43m[\u001b[49m\u001b[43m \u001b[49m\u001b[38;5;241;43m1.\u001b[39;49m\u001b[43m \u001b[49m\u001b[43m,\u001b[49m\u001b[43m \u001b[49m\u001b[38;5;241;43m1.\u001b[39;49m\u001b[43m \u001b[49m\u001b[43m,\u001b[49m\u001b[43m \u001b[49m\u001b[38;5;241;43m1.\u001b[39;49m\u001b[43m]\u001b[49m\u001b[43m \u001b[49m\u001b[38;5;28;43;01mfor\u001b[39;49;00m\u001b[43m \u001b[49m\u001b[43mj\u001b[49m\u001b[43m \u001b[49m\u001b[38;5;129;43;01min\u001b[39;49;00m\u001b[43m \u001b[49m\u001b[38;5;28;43mrange\u001b[39;49m\u001b[43m(\u001b[49m\u001b[38;5;241;43m10\u001b[39;49m\u001b[43m)\u001b[49m\u001b[43m]\u001b[49m\u001b[43m  \u001b[49m\u001b[43m]\u001b[49m\u001b[43m)\u001b[49m\n\u001b[0;32m      3\u001b[0m \u001b[38;5;28mprint\u001b[39m(distance)\n\u001b[0;32m      5\u001b[0m np\u001b[38;5;241m.\u001b[39marctan(np\u001b[38;5;241m.\u001b[39minf)\n",
      "\u001b[1;31mValueError\u001b[0m: setting an array element with a sequence. The requested array has an inhomogeneous shape after 1 dimensions. The detected shape was (2,) + inhomogeneous part."
     ]
    }
   ],
   "source": [
    "import numpy as np\n",
    "distance=np.array([ [[\"droneID\"]] , [[ 1. , 1. , 1.] for j in range(10)]  ])\n",
    "print(distance)\n",
    "\n"
   ]
  },
  {
   "cell_type": "code",
   "execution_count": 43,
   "metadata": {},
   "outputs": [
    {
     "name": "stdout",
     "output_type": "stream",
     "text": [
      "13\n",
      "2.0\n"
     ]
    },
    {
     "ename": "IndexError",
     "evalue": "invalid index to scalar variable.",
     "output_type": "error",
     "traceback": [
      "\u001b[1;31m---------------------------------------------------------------------------\u001b[0m",
      "\u001b[1;31mIndexError\u001b[0m                                Traceback (most recent call last)",
      "Cell \u001b[1;32mIn[43], line 5\u001b[0m\n\u001b[0;32m      3\u001b[0m a \u001b[38;5;241m=\u001b[39m np\u001b[38;5;241m.\u001b[39mclip(a, \u001b[38;5;241m-\u001b[39m\u001b[38;5;241m2.\u001b[39m, \u001b[38;5;241m2.\u001b[39m)\n\u001b[0;32m      4\u001b[0m \u001b[38;5;28mprint\u001b[39m(a)\n\u001b[1;32m----> 5\u001b[0m a[\u001b[38;5;241m2\u001b[39m] \u001b[38;5;241m=\u001b[39m np\u001b[38;5;241m.\u001b[39mclip(\u001b[43ma\u001b[49m\u001b[43m[\u001b[49m\u001b[38;5;241;43m2\u001b[39;49m\u001b[43m]\u001b[49m, \u001b[38;5;241m-\u001b[39m\u001b[38;5;241m0.15\u001b[39m, \u001b[38;5;241m.15\u001b[39m)\n\u001b[0;32m      6\u001b[0m \u001b[38;5;28mprint\u001b[39m(a)\n",
      "\u001b[1;31mIndexError\u001b[0m: invalid index to scalar variable."
     ]
    }
   ],
   "source": [
    "\n",
    "\n",
    "a = 13\n",
    "print(a)\n",
    "a = np.clip(a, -2., 2.)\n",
    "print(a)\n",
    "a[2] = np.clip(a[2], -0.15, .15)\n",
    "print(a)"
   ]
  },
  {
   "cell_type": "code",
   "execution_count": 1,
   "metadata": {},
   "outputs": [
    {
     "name": "stdout",
     "output_type": "stream",
     "text": [
      "[[0. 0. 0.]\n",
      " [0. 0. 0.]\n",
      " [0. 0. 0.]]\n",
      "[[0. 0. 0.]\n",
      " [1. 1. 1.]\n",
      " [0. 0. 0.]]\n"
     ]
    }
   ],
   "source": [
    "import numpy as np\n",
    "NUM_DRONES = 3 \n",
    "wfstatezero_debugger = np.array([[0. , 0. , 0.] for j in range(NUM_DRONES)] )\n",
    "print(wfstatezero_debugger)\n",
    "wfstatezero_debugger[1] = [1. , 1. , 1.]\n",
    "print(wfstatezero_debugger)"
   ]
  },
  {
   "cell_type": "code",
   "execution_count": 11,
   "metadata": {},
   "outputs": [
    {
     "name": "stdout",
     "output_type": "stream",
     "text": [
      "[[0. 0. 0.]\n",
      " [0. 0. 0.]\n",
      " [0. 0. 0.]\n",
      " [0. 0. 0.]\n",
      " [0. 0. 0.]]\n",
      "[[0. 0. 0.]\n",
      " [0. 0. 0.]\n",
      " [3. 0. 0.]\n",
      " [0. 0. 0.]\n",
      " [0. 0. 0.]]\n"
     ]
    }
   ],
   "source": [
    "import numpy as np\n",
    "cv = 3\n",
    "vel = np.array([[0. , 0. , 0.] for j in range(5)])\n",
    "print (vel)\n",
    "vel [2] = np.dot(  cv , [1. , 0. , 0.] )\n",
    "print (vel)\n"
   ]
  }
 ],
 "metadata": {
  "kernelspec": {
   "display_name": "drones",
   "language": "python",
   "name": "python3"
  },
  "language_info": {
   "codemirror_mode": {
    "name": "ipython",
    "version": 3
   },
   "file_extension": ".py",
   "mimetype": "text/x-python",
   "name": "python",
   "nbconvert_exporter": "python",
   "pygments_lexer": "ipython3",
   "version": "3.10.14"
  }
 },
 "nbformat": 4,
 "nbformat_minor": 2
}
