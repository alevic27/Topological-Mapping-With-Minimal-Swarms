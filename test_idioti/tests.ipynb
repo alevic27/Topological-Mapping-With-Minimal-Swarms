{
 "cells": [
  {
   "cell_type": "code",
   "execution_count": 8,
   "metadata": {},
   "outputs": [
    {
     "name": "stdout",
     "output_type": "stream",
     "text": [
      "(500, 3)\n",
      "[  0  83 166 250 333]\n",
      "[-0.25917703 -0.14891304  0.15      ]\n",
      "[-0.25917703 -0.14891304]\n"
     ]
    }
   ],
   "source": [
    "import numpy as np\n",
    "num_drones = 5\n",
    "R = 0.3\n",
    "H = 0.1\n",
    "H_STEP = 0.05\n",
    "control_freq_hz = 50\n",
    "\n",
    "INIT_XYZS = np.array([[0.3*np.cos((i/6)*2*np.pi+np.pi/2), 0.3*np.sin((i/6)*2*np.pi+np.pi/2)-0.3, 0.1+i*0.05] for i in range(5)])\n",
    "INIT_RPYS = np.array([[0, 0,  i * (np.pi/2)/num_drones] for i in range(num_drones)])\n",
    "\n",
    "PERIOD = 10\n",
    "NUM_WP = control_freq_hz*PERIOD\n",
    "TARGET_POS = np.zeros((NUM_WP,3))\n",
    "for i in range(NUM_WP):\n",
    "    TARGET_POS[i, :] = R*np.cos((i/NUM_WP)*(2*np.pi)+np.pi/2)+INIT_XYZS[0, 0], R*np.sin((i/NUM_WP)*(2*np.pi)+np.pi/2)-R+INIT_XYZS[0, 1], 0\n",
    "wp_counters = np.array([int((i*NUM_WP/6)%NUM_WP) for i in range(num_drones)])\n",
    "\n",
    "print(TARGET_POS.shape)\n",
    "print(wp_counters)\n",
    "\n",
    "target_pos=np.hstack([TARGET_POS[wp_counters[1], 0:2], INIT_XYZS[1, 2]])\n",
    "print(target_pos)\n",
    "print(TARGET_POS[83, 0:2])\n",
    "\n"
   ]
  },
  {
   "cell_type": "code",
   "execution_count": 10,
   "metadata": {},
   "outputs": [
    {
     "data": {
      "text/plain": [
       "(1, 1)"
      ]
     },
     "execution_count": 10,
     "metadata": {},
     "output_type": "execute_result"
    }
   ],
   "source": [
    "a =np.zeros([1,1])\n",
    "a.shape"
   ]
  },
  {
   "cell_type": "code",
   "execution_count": 1,
   "metadata": {},
   "outputs": [
    {
     "name": "stdout",
     "output_type": "stream",
     "text": [
      "/pippo/pluto/paperino\n"
     ]
    }
   ],
   "source": [
    "import os\n",
    "\n",
    "path_1 = \"/pippo/pluto\"\n",
    "path_2 = \"paperino\"\n",
    "print(os.path.join(path_1,path_2))"
   ]
  },
  {
   "cell_type": "code",
   "execution_count": 3,
   "metadata": {},
   "outputs": [
    {
     "name": "stdout",
     "output_type": "stream",
     "text": [
      "['orange']\n"
     ]
    }
   ],
   "source": [
    "# List of strings\n",
    "my_list = [\"apple\", \"banana\", \"pippin\", \"orange\", \"grape\"]\n",
    "\n",
    "# Find elements containing 'ora'\n",
    "result = [string for string in my_list if 'ora' in string]\n",
    "\n",
    "# Print the result\n",
    "print(result)\n"
   ]
  },
  {
   "cell_type": "code",
   "execution_count": 5,
   "metadata": {},
   "outputs": [
    {
     "name": "stdout",
     "output_type": "stream",
     "text": [
      "['orange']\n"
     ]
    }
   ],
   "source": [
    "# List of strings\n",
    "my_list = [\"apple\", \"banana\", \"pippin\", \"orange\", \"grape\"]\n",
    "\n",
    "# Find elements containing 'ora' using find()\n",
    "result = [string for string in my_list if string.find('ora') != -1]\n",
    "\n",
    "# Print the result\n",
    "print(result)\n"
   ]
  },
  {
   "cell_type": "code",
   "execution_count": 6,
   "metadata": {},
   "outputs": [
    {
     "name": "stdout",
     "output_type": "stream",
     "text": [
      "['orange']\n"
     ]
    }
   ],
   "source": [
    "# New list of strings\n",
    "my_list = ['orange_blue', 'orange', 'apple', 'banana', 'kaki']\n",
    "\n",
    "# Find strings containing 'orange' and ending with it\n",
    "result = [string for string in my_list if string.endswith('orange') and 'orange' in string]\n",
    "\n",
    "# Print the result\n",
    "print(result)\n"
   ]
  }
 ],
 "metadata": {
  "kernelspec": {
   "display_name": "Python 3",
   "language": "python",
   "name": "python3"
  },
  "language_info": {
   "codemirror_mode": {
    "name": "ipython",
    "version": 3
   },
   "file_extension": ".py",
   "mimetype": "text/x-python",
   "name": "python",
   "nbconvert_exporter": "python",
   "pygments_lexer": "ipython3",
   "version": "3.10.12"
  }
 },
 "nbformat": 4,
 "nbformat_minor": 2
}
